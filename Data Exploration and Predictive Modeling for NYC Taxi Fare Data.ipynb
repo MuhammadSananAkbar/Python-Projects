{
 "cells": [
  {
   "cell_type": "code",
   "execution_count": 149,
   "metadata": {},
   "outputs": [
    {
     "ename": "SyntaxError",
     "evalue": "invalid syntax (<ipython-input-149-2116a5f6d2b4>, line 1)",
     "output_type": "error",
     "traceback": [
      "\u001b[1;36m  File \u001b[1;32m\"<ipython-input-149-2116a5f6d2b4>\"\u001b[1;36m, line \u001b[1;32m1\u001b[0m\n\u001b[1;33m    git commit -m \"first commit\"\u001b[0m\n\u001b[1;37m             ^\u001b[0m\n\u001b[1;31mSyntaxError\u001b[0m\u001b[1;31m:\u001b[0m invalid syntax\n"
     ]
    }
   ],
   "source": [
    "\n",
    "git commit -m \"first commit\"\n",
    "git remote add origin https://github.com/MuhammadSananAkbar/Python-Projects.git\n",
    "git push -u origin master"
   ]
  },
  {
   "cell_type": "code",
   "execution_count": 143,
   "metadata": {},
   "outputs": [],
   "source": [
    "import pandas as pd\n",
    "import numpy as np\n",
    "import matplotlib.pyplot as plt\n",
    "import seaborn as sns\n",
    "%matplotlib inline\n",
    "from sklearn.metrics import accuracy_score\n",
    "from sklearn.metrics import classification_report, confusion_matrix"
   ]
  },
  {
   "cell_type": "markdown",
   "metadata": {},
   "source": [
    "# Joining Data"
   ]
  },
  {
   "cell_type": "code",
   "execution_count": 79,
   "metadata": {},
   "outputs": [],
   "source": [
    "data1 = pd.read_csv('Final_Dataset.csv')"
   ]
  },
  {
   "cell_type": "code",
   "execution_count": 80,
   "metadata": {},
   "outputs": [
    {
     "data": {
      "text/html": [
       "<div>\n",
       "<style scoped>\n",
       "    .dataframe tbody tr th:only-of-type {\n",
       "        vertical-align: middle;\n",
       "    }\n",
       "\n",
       "    .dataframe tbody tr th {\n",
       "        vertical-align: top;\n",
       "    }\n",
       "\n",
       "    .dataframe thead th {\n",
       "        text-align: right;\n",
       "    }\n",
       "</style>\n",
       "<table border=\"1\" class=\"dataframe\">\n",
       "  <thead>\n",
       "    <tr style=\"text-align: right;\">\n",
       "      <th></th>\n",
       "      <th>LocationID</th>\n",
       "      <th>Borough</th>\n",
       "      <th>Zone</th>\n",
       "      <th>service_zone</th>\n",
       "      <th>Latitude</th>\n",
       "      <th>Longitude</th>\n",
       "    </tr>\n",
       "  </thead>\n",
       "  <tbody>\n",
       "    <tr>\n",
       "      <th>0</th>\n",
       "      <td>1</td>\n",
       "      <td>EWR</td>\n",
       "      <td>Newark Airport</td>\n",
       "      <td>EWR</td>\n",
       "      <td>40.689064</td>\n",
       "      <td>-74.177255</td>\n",
       "    </tr>\n",
       "    <tr>\n",
       "      <th>1</th>\n",
       "      <td>2</td>\n",
       "      <td>Queens</td>\n",
       "      <td>Jamaica Bay</td>\n",
       "      <td>Boro Zone</td>\n",
       "      <td>40.749824</td>\n",
       "      <td>-73.797634</td>\n",
       "    </tr>\n",
       "    <tr>\n",
       "      <th>2</th>\n",
       "      <td>3</td>\n",
       "      <td>Bronx</td>\n",
       "      <td>Allerton/Pelham Gardens</td>\n",
       "      <td>Boro Zone</td>\n",
       "      <td>40.850485</td>\n",
       "      <td>-73.840404</td>\n",
       "    </tr>\n",
       "    <tr>\n",
       "      <th>3</th>\n",
       "      <td>4</td>\n",
       "      <td>Manhattan</td>\n",
       "      <td>Alphabet City</td>\n",
       "      <td>Yellow Zone</td>\n",
       "      <td>40.789624</td>\n",
       "      <td>-73.959894</td>\n",
       "    </tr>\n",
       "    <tr>\n",
       "      <th>4</th>\n",
       "      <td>5</td>\n",
       "      <td>Staten Island</td>\n",
       "      <td>Arden Heights</td>\n",
       "      <td>Boro Zone</td>\n",
       "      <td>40.583456</td>\n",
       "      <td>-74.149605</td>\n",
       "    </tr>\n",
       "  </tbody>\n",
       "</table>\n",
       "</div>"
      ],
      "text/plain": [
       "   LocationID        Borough                     Zone service_zone   Latitude  \\\n",
       "0           1            EWR           Newark Airport          EWR  40.689064   \n",
       "1           2         Queens              Jamaica Bay    Boro Zone  40.749824   \n",
       "2           3          Bronx  Allerton/Pelham Gardens    Boro Zone  40.850485   \n",
       "3           4      Manhattan            Alphabet City  Yellow Zone  40.789624   \n",
       "4           5  Staten Island            Arden Heights    Boro Zone  40.583456   \n",
       "\n",
       "   Longitude  \n",
       "0 -74.177255  \n",
       "1 -73.797634  \n",
       "2 -73.840404  \n",
       "3 -73.959894  \n",
       "4 -74.149605  "
      ]
     },
     "execution_count": 80,
     "metadata": {},
     "output_type": "execute_result"
    }
   ],
   "source": [
    "data2 = pd.read_csv('taxi+_zone_lookup.csv')\n",
    "data2.head()"
   ]
  },
  {
   "cell_type": "code",
   "execution_count": 81,
   "metadata": {},
   "outputs": [],
   "source": [
    "data2.rename(columns={'LocationID':'PULocationID'},inplace=True)"
   ]
  },
  {
   "cell_type": "code",
   "execution_count": 82,
   "metadata": {},
   "outputs": [
    {
     "data": {
      "text/html": [
       "<div>\n",
       "<style scoped>\n",
       "    .dataframe tbody tr th:only-of-type {\n",
       "        vertical-align: middle;\n",
       "    }\n",
       "\n",
       "    .dataframe tbody tr th {\n",
       "        vertical-align: top;\n",
       "    }\n",
       "\n",
       "    .dataframe thead th {\n",
       "        text-align: right;\n",
       "    }\n",
       "</style>\n",
       "<table border=\"1\" class=\"dataframe\">\n",
       "  <thead>\n",
       "    <tr style=\"text-align: right;\">\n",
       "      <th></th>\n",
       "      <th>PULocationID</th>\n",
       "      <th>Borough</th>\n",
       "      <th>Zone</th>\n",
       "      <th>service_zone</th>\n",
       "      <th>Latitude</th>\n",
       "      <th>Longitude</th>\n",
       "    </tr>\n",
       "  </thead>\n",
       "  <tbody>\n",
       "    <tr>\n",
       "      <th>0</th>\n",
       "      <td>1</td>\n",
       "      <td>EWR</td>\n",
       "      <td>Newark Airport</td>\n",
       "      <td>EWR</td>\n",
       "      <td>40.689064</td>\n",
       "      <td>-74.177255</td>\n",
       "    </tr>\n",
       "    <tr>\n",
       "      <th>1</th>\n",
       "      <td>2</td>\n",
       "      <td>Queens</td>\n",
       "      <td>Jamaica Bay</td>\n",
       "      <td>Boro Zone</td>\n",
       "      <td>40.749824</td>\n",
       "      <td>-73.797634</td>\n",
       "    </tr>\n",
       "    <tr>\n",
       "      <th>2</th>\n",
       "      <td>3</td>\n",
       "      <td>Bronx</td>\n",
       "      <td>Allerton/Pelham Gardens</td>\n",
       "      <td>Boro Zone</td>\n",
       "      <td>40.850485</td>\n",
       "      <td>-73.840404</td>\n",
       "    </tr>\n",
       "    <tr>\n",
       "      <th>3</th>\n",
       "      <td>4</td>\n",
       "      <td>Manhattan</td>\n",
       "      <td>Alphabet City</td>\n",
       "      <td>Yellow Zone</td>\n",
       "      <td>40.789624</td>\n",
       "      <td>-73.959894</td>\n",
       "    </tr>\n",
       "    <tr>\n",
       "      <th>4</th>\n",
       "      <td>5</td>\n",
       "      <td>Staten Island</td>\n",
       "      <td>Arden Heights</td>\n",
       "      <td>Boro Zone</td>\n",
       "      <td>40.583456</td>\n",
       "      <td>-74.149605</td>\n",
       "    </tr>\n",
       "  </tbody>\n",
       "</table>\n",
       "</div>"
      ],
      "text/plain": [
       "   PULocationID        Borough                     Zone service_zone  \\\n",
       "0             1            EWR           Newark Airport          EWR   \n",
       "1             2         Queens              Jamaica Bay    Boro Zone   \n",
       "2             3          Bronx  Allerton/Pelham Gardens    Boro Zone   \n",
       "3             4      Manhattan            Alphabet City  Yellow Zone   \n",
       "4             5  Staten Island            Arden Heights    Boro Zone   \n",
       "\n",
       "    Latitude  Longitude  \n",
       "0  40.689064 -74.177255  \n",
       "1  40.749824 -73.797634  \n",
       "2  40.850485 -73.840404  \n",
       "3  40.789624 -73.959894  \n",
       "4  40.583456 -74.149605  "
      ]
     },
     "execution_count": 82,
     "metadata": {},
     "output_type": "execute_result"
    }
   ],
   "source": [
    "data2.head()"
   ]
  },
  {
   "cell_type": "code",
   "execution_count": 102,
   "metadata": {},
   "outputs": [],
   "source": [
    "data = pd.merge(data1,data2, on = ['PULocationID'])"
   ]
  },
  {
   "cell_type": "code",
   "execution_count": 103,
   "metadata": {},
   "outputs": [],
   "source": [
    "data.drop(['DOLocationID','Unnamed: 1','Borough','Zone','service_zone','PULocationID','weekday'],axis=1,inplace=True)"
   ]
  },
  {
   "cell_type": "code",
   "execution_count": 104,
   "metadata": {},
   "outputs": [
    {
     "data": {
      "text/html": [
       "<div>\n",
       "<style scoped>\n",
       "    .dataframe tbody tr th:only-of-type {\n",
       "        vertical-align: middle;\n",
       "    }\n",
       "\n",
       "    .dataframe tbody tr th {\n",
       "        vertical-align: top;\n",
       "    }\n",
       "\n",
       "    .dataframe thead th {\n",
       "        text-align: right;\n",
       "    }\n",
       "</style>\n",
       "<table border=\"1\" class=\"dataframe\">\n",
       "  <thead>\n",
       "    <tr style=\"text-align: right;\">\n",
       "      <th></th>\n",
       "      <th>passenger_count</th>\n",
       "      <th>trip_distance</th>\n",
       "      <th>fare_amount</th>\n",
       "      <th>hour</th>\n",
       "      <th>day_of week</th>\n",
       "      <th>Latitude</th>\n",
       "      <th>Longitude</th>\n",
       "    </tr>\n",
       "  </thead>\n",
       "  <tbody>\n",
       "    <tr>\n",
       "      <th>0</th>\n",
       "      <td>2</td>\n",
       "      <td>3.80</td>\n",
       "      <td>19.0</td>\n",
       "      <td>17</td>\n",
       "      <td>Wednesday</td>\n",
       "      <td>40.789624</td>\n",
       "      <td>-73.959894</td>\n",
       "    </tr>\n",
       "    <tr>\n",
       "      <th>1</th>\n",
       "      <td>1</td>\n",
       "      <td>1.40</td>\n",
       "      <td>13.0</td>\n",
       "      <td>11</td>\n",
       "      <td>Monday</td>\n",
       "      <td>40.789624</td>\n",
       "      <td>-73.959894</td>\n",
       "    </tr>\n",
       "    <tr>\n",
       "      <th>2</th>\n",
       "      <td>2</td>\n",
       "      <td>1.67</td>\n",
       "      <td>7.5</td>\n",
       "      <td>23</td>\n",
       "      <td>Tuesday</td>\n",
       "      <td>40.789624</td>\n",
       "      <td>-73.959894</td>\n",
       "    </tr>\n",
       "    <tr>\n",
       "      <th>3</th>\n",
       "      <td>1</td>\n",
       "      <td>2.20</td>\n",
       "      <td>9.0</td>\n",
       "      <td>20</td>\n",
       "      <td>Wednesday</td>\n",
       "      <td>40.789624</td>\n",
       "      <td>-73.959894</td>\n",
       "    </tr>\n",
       "    <tr>\n",
       "      <th>4</th>\n",
       "      <td>1</td>\n",
       "      <td>0.80</td>\n",
       "      <td>7.5</td>\n",
       "      <td>9</td>\n",
       "      <td>Monday</td>\n",
       "      <td>40.789624</td>\n",
       "      <td>-73.959894</td>\n",
       "    </tr>\n",
       "  </tbody>\n",
       "</table>\n",
       "</div>"
      ],
      "text/plain": [
       "   passenger_count  trip_distance  fare_amount  hour day_of week   Latitude  \\\n",
       "0                2           3.80         19.0    17   Wednesday  40.789624   \n",
       "1                1           1.40         13.0    11      Monday  40.789624   \n",
       "2                2           1.67          7.5    23     Tuesday  40.789624   \n",
       "3                1           2.20          9.0    20   Wednesday  40.789624   \n",
       "4                1           0.80          7.5     9      Monday  40.789624   \n",
       "\n",
       "   Longitude  \n",
       "0 -73.959894  \n",
       "1 -73.959894  \n",
       "2 -73.959894  \n",
       "3 -73.959894  \n",
       "4 -73.959894  "
      ]
     },
     "execution_count": 104,
     "metadata": {},
     "output_type": "execute_result"
    }
   ],
   "source": [
    "data.head()"
   ]
  },
  {
   "cell_type": "markdown",
   "metadata": {},
   "source": [
    "# Data Exploration"
   ]
  },
  {
   "cell_type": "code",
   "execution_count": 106,
   "metadata": {},
   "outputs": [
    {
     "data": {
      "text/plain": [
       "(array([9.015e+03, 6.370e+02, 3.290e+02, 1.300e+01, 3.000e+00, 0.000e+00,\n",
       "        1.000e+00, 1.000e+00, 0.000e+00, 1.000e+00]),\n",
       " array([  2.5 ,  24.95,  47.4 ,  69.85,  92.3 , 114.75, 137.2 , 159.65,\n",
       "        182.1 , 204.55, 227.  ]),\n",
       " <a list of 10 Patch objects>)"
      ]
     },
     "execution_count": 106,
     "metadata": {},
     "output_type": "execute_result"
    },
    {
     "data": {
      "image/png": "[encoded data removed]",
      "text/plain": [
       "<Figure size 432x288 with 1 Axes>"
      ]
     },
     "metadata": {
      "needs_background": "light"
     },
     "output_type": "display_data"
    }
   ],
   "source": [
    "plt.hist(data['fare_amount'])"
   ]
  },
  {
   "cell_type": "code",
   "execution_count": 107,
   "metadata": {},
   "outputs": [
    {
     "data": {
      "text/plain": [
       "count    10000.000000\n",
       "mean        12.646781\n",
       "std         11.098479\n",
       "min          2.500000\n",
       "25%          6.500000\n",
       "50%          9.000000\n",
       "75%         13.500000\n",
       "max        227.000000\n",
       "Name: fare_amount, dtype: float64"
      ]
     },
     "execution_count": 107,
     "metadata": {},
     "output_type": "execute_result"
    }
   ],
   "source": [
    "data['fare_amount'].describe()"
   ]
  },
  {
   "cell_type": "code",
   "execution_count": 109,
   "metadata": {},
   "outputs": [
    {
     "data": {
      "text/plain": [
       "PULocationID           246\n",
       "Unnamed: 1            4482\n",
       "passenger_count          3\n",
       "trip_distance      0.95000\n",
       "DOLocationID            50\n",
       "fare_amount        5.00000\n",
       "weekday                  1\n",
       "hour                    21\n",
       "day_of week        Tuesday\n",
       "Name: 4482, dtype: object"
      ]
     },
     "execution_count": 109,
     "metadata": {},
     "output_type": "execute_result"
    }
   ],
   "source": [
    "pd.set_option('display.float_format', lambda x: '%.5f' % x)\n",
    "data1.loc[data['fare_amount'].idxmax()]"
   ]
  },
  {
   "cell_type": "code",
   "execution_count": 110,
   "metadata": {},
   "outputs": [
    {
     "data": {
      "text/plain": [
       "<matplotlib.axes._subplots.AxesSubplot at 0x283e4f9a400>"
      ]
     },
     "execution_count": 110,
     "metadata": {},
     "output_type": "execute_result"
    },
    {
     "data": {
      "image/png": "[encoded data removed]",
      "text/plain": [
       "<Figure size 432x288 with 2 Axes>"
      ]
     },
     "metadata": {
      "needs_background": "light"
     },
     "output_type": "display_data"
    }
   ],
   "source": [
    "sns.heatmap(data1.corr(),annot=False)"
   ]
  },
  {
   "cell_type": "code",
   "execution_count": 113,
   "metadata": {},
   "outputs": [
    {
     "data": {
      "text/plain": [
       "Text(0.5, 1.0, 'Distribution of fare amount')"
      ]
     },
     "execution_count": 113,
     "metadata": {},
     "output_type": "execute_result"
    },
    {
     "data": {
      "image/png": "[encoded data removed]",
      "text/plain": [
       "<Figure size 720x432 with 1 Axes>"
      ]
     },
     "metadata": {
      "needs_background": "light"
     },
     "output_type": "display_data"
    }
   ],
   "source": [
    "plt.figure(figsize=(10,6))\n",
    "sns.distplot(data['fare_amount'])\n",
    "plt.title('Distribution of fare amount')"
   ]
  },
  {
   "cell_type": "code",
   "execution_count": 115,
   "metadata": {},
   "outputs": [
    {
     "data": {
      "text/plain": [
       "passenger_count\n",
       "1    7190\n",
       "2    1500\n",
       "3     397\n",
       "4     208\n",
       "5     457\n",
       "6     248\n",
       "dtype: int64"
      ]
     },
     "execution_count": 115,
     "metadata": {},
     "output_type": "execute_result"
    }
   ],
   "source": [
    "data.groupby(['passenger_count']).size()"
   ]
  },
  {
   "cell_type": "code",
   "execution_count": 119,
   "metadata": {},
   "outputs": [
    {
     "data": {
      "text/plain": [
       "Text(0.5, 1.0, 'Average Fare Price During Time of Day')"
      ]
     },
     "execution_count": 119,
     "metadata": {},
     "output_type": "execute_result"
    },
    {
     "data": {
      "image/png": "[encoded data removed]",
      "text/plain": [
       "<Figure size 432x288 with 1 Axes>"
      ]
     },
     "metadata": {
      "needs_background": "light"
     },
     "output_type": "display_data"
    }
   ],
   "source": [
    "time_of_day=data.groupby(['hour']).mean()\n",
    "plt.plot(time_of_day.index, time_of_day.fare_amount, color = 'r')\n",
    "plt.xlabel('Hour');\n",
    "plt.ylabel('Fare Price');\n",
    "plt.title('Average Fare Price During Time of Day')"
   ]
  },
  {
   "cell_type": "markdown",
   "metadata": {},
   "source": [
    "# Data Transformation"
   ]
  },
  {
   "cell_type": "code",
   "execution_count": 120,
   "metadata": {},
   "outputs": [],
   "source": [
    "def weekend(x):\n",
    "    if x == 'Saturday':\n",
    "        return 1\n",
    "    elif x == 'Sunday':\n",
    "        return 1\n",
    "    else:\n",
    "        return 0"
   ]
  },
  {
   "cell_type": "code",
   "execution_count": 121,
   "metadata": {},
   "outputs": [],
   "source": [
    "data['weekend'] = data['day_of week'].apply(weekend)"
   ]
  },
  {
   "cell_type": "code",
   "execution_count": 122,
   "metadata": {},
   "outputs": [],
   "source": [
    "data.drop('day_of week',axis=1,inplace=True)"
   ]
  },
  {
   "cell_type": "code",
   "execution_count": 123,
   "metadata": {},
   "outputs": [],
   "source": [
    "def hour(x):\n",
    "    if x in range(6,19):\n",
    "        return 1\n",
    "    else:\n",
    "        return 0"
   ]
  },
  {
   "cell_type": "code",
   "execution_count": 124,
   "metadata": {},
   "outputs": [],
   "source": [
    "data['daytime'] = data['hour'].apply(hour)\n",
    "data.drop('hour',axis=1,inplace=True)"
   ]
  },
  {
   "cell_type": "code",
   "execution_count": 125,
   "metadata": {},
   "outputs": [],
   "source": [
    "data.to_csv (r'C:\\Users\\sanna\\OneDrive\\UConn\\Semester 2\\DS with Python\\Project\\Joined_Data.csv', index = False, header=True)\n"
   ]
  },
  {
   "cell_type": "markdown",
   "metadata": {},
   "source": [
    "# Regression Using OLS"
   ]
  },
  {
   "cell_type": "code",
   "execution_count": 126,
   "metadata": {
    "slideshow": {
     "slide_type": "slide"
    }
   },
   "outputs": [
    {
     "data": {
      "text/html": [
       "<div>\n",
       "<style scoped>\n",
       "    .dataframe tbody tr th:only-of-type {\n",
       "        vertical-align: middle;\n",
       "    }\n",
       "\n",
       "    .dataframe tbody tr th {\n",
       "        vertical-align: top;\n",
       "    }\n",
       "\n",
       "    .dataframe thead th {\n",
       "        text-align: right;\n",
       "    }\n",
       "</style>\n",
       "<table border=\"1\" class=\"dataframe\">\n",
       "  <thead>\n",
       "    <tr style=\"text-align: right;\">\n",
       "      <th></th>\n",
       "      <th>passenger_count</th>\n",
       "      <th>trip_distance</th>\n",
       "      <th>fare_amount</th>\n",
       "      <th>Latitude</th>\n",
       "      <th>Longitude</th>\n",
       "      <th>weekend</th>\n",
       "      <th>daytime</th>\n",
       "    </tr>\n",
       "  </thead>\n",
       "  <tbody>\n",
       "    <tr>\n",
       "      <th>0</th>\n",
       "      <td>2</td>\n",
       "      <td>3.80000</td>\n",
       "      <td>19.00000</td>\n",
       "      <td>40.78962</td>\n",
       "      <td>-73.95989</td>\n",
       "      <td>0</td>\n",
       "      <td>1</td>\n",
       "    </tr>\n",
       "    <tr>\n",
       "      <th>1</th>\n",
       "      <td>1</td>\n",
       "      <td>1.40000</td>\n",
       "      <td>13.00000</td>\n",
       "      <td>40.78962</td>\n",
       "      <td>-73.95989</td>\n",
       "      <td>0</td>\n",
       "      <td>1</td>\n",
       "    </tr>\n",
       "    <tr>\n",
       "      <th>2</th>\n",
       "      <td>2</td>\n",
       "      <td>1.67000</td>\n",
       "      <td>7.50000</td>\n",
       "      <td>40.78962</td>\n",
       "      <td>-73.95989</td>\n",
       "      <td>0</td>\n",
       "      <td>0</td>\n",
       "    </tr>\n",
       "    <tr>\n",
       "      <th>3</th>\n",
       "      <td>1</td>\n",
       "      <td>2.20000</td>\n",
       "      <td>9.00000</td>\n",
       "      <td>40.78962</td>\n",
       "      <td>-73.95989</td>\n",
       "      <td>0</td>\n",
       "      <td>0</td>\n",
       "    </tr>\n",
       "    <tr>\n",
       "      <th>4</th>\n",
       "      <td>1</td>\n",
       "      <td>0.80000</td>\n",
       "      <td>7.50000</td>\n",
       "      <td>40.78962</td>\n",
       "      <td>-73.95989</td>\n",
       "      <td>0</td>\n",
       "      <td>1</td>\n",
       "    </tr>\n",
       "  </tbody>\n",
       "</table>\n",
       "</div>"
      ],
      "text/plain": [
       "   passenger_count  trip_distance  fare_amount  Latitude  Longitude  weekend  \\\n",
       "0                2        3.80000     19.00000  40.78962  -73.95989        0   \n",
       "1                1        1.40000     13.00000  40.78962  -73.95989        0   \n",
       "2                2        1.67000      7.50000  40.78962  -73.95989        0   \n",
       "3                1        2.20000      9.00000  40.78962  -73.95989        0   \n",
       "4                1        0.80000      7.50000  40.78962  -73.95989        0   \n",
       "\n",
       "   daytime  \n",
       "0        1  \n",
       "1        1  \n",
       "2        0  \n",
       "3        0  \n",
       "4        1  "
      ]
     },
     "execution_count": 126,
     "metadata": {},
     "output_type": "execute_result"
    }
   ],
   "source": [
    "data.head()"
   ]
  },
  {
   "cell_type": "code",
   "execution_count": 127,
   "metadata": {},
   "outputs": [],
   "source": [
    "import statsmodels.api as sm"
   ]
  },
  {
   "cell_type": "code",
   "execution_count": 128,
   "metadata": {},
   "outputs": [
    {
     "name": "stderr",
     "output_type": "stream",
     "text": [
      "C:\\Users\\sanna\\Anaconda3\\lib\\site-packages\\numpy\\core\\fromnumeric.py:2389: FutureWarning: Method .ptp is deprecated and will be removed in a future version. Use numpy.ptp instead.\n",
      "  return ptp(axis=axis, out=out, **kwargs)\n"
     ]
    }
   ],
   "source": [
    "X = sm.add_constant(data.drop('fare_amount',axis=1))"
   ]
  },
  {
   "cell_type": "code",
   "execution_count": 129,
   "metadata": {},
   "outputs": [],
   "source": [
    "y = data['fare_amount']"
   ]
  },
  {
   "cell_type": "code",
   "execution_count": 130,
   "metadata": {},
   "outputs": [],
   "source": [
    "model = sm.OLS(y,X)"
   ]
  },
  {
   "cell_type": "code",
   "execution_count": 131,
   "metadata": {},
   "outputs": [],
   "source": [
    "results = model.fit()"
   ]
  },
  {
   "cell_type": "code",
   "execution_count": 132,
   "metadata": {},
   "outputs": [
    {
     "data": {
      "text/html": [
       "<table class=\"simpletable\">\n",
       "<caption>OLS Regression Results</caption>\n",
       "<tr>\n",
       "  <th>Dep. Variable:</th>       <td>fare_amount</td>   <th>  R-squared:         </th> <td>   0.900</td> \n",
       "</tr>\n",
       "<tr>\n",
       "  <th>Model:</th>                   <td>OLS</td>       <th>  Adj. R-squared:    </th> <td>   0.900</td> \n",
       "</tr>\n",
       "<tr>\n",
       "  <th>Method:</th>             <td>Least Squares</td>  <th>  F-statistic:       </th> <td>1.506e+04</td>\n",
       "</tr>\n",
       "<tr>\n",
       "  <th>Date:</th>             <td>Thu, 16 Apr 2020</td> <th>  Prob (F-statistic):</th>  <td>  0.00</td>  \n",
       "</tr>\n",
       "<tr>\n",
       "  <th>Time:</th>                 <td>14:01:06</td>     <th>  Log-Likelihood:    </th> <td> -26722.</td> \n",
       "</tr>\n",
       "<tr>\n",
       "  <th>No. Observations:</th>      <td> 10000</td>      <th>  AIC:               </th> <td>5.346e+04</td>\n",
       "</tr>\n",
       "<tr>\n",
       "  <th>Df Residuals:</th>          <td>  9993</td>      <th>  BIC:               </th> <td>5.351e+04</td>\n",
       "</tr>\n",
       "<tr>\n",
       "  <th>Df Model:</th>              <td>     6</td>      <th>                     </th>     <td> </td>    \n",
       "</tr>\n",
       "<tr>\n",
       "  <th>Covariance Type:</th>      <td>nonrobust</td>    <th>                     </th>     <td> </td>    \n",
       "</tr>\n",
       "</table>\n",
       "<table class=\"simpletable\">\n",
       "<tr>\n",
       "         <td></td>            <th>coef</th>     <th>std err</th>      <th>t</th>      <th>P>|t|</th>  <th>[0.025</th>    <th>0.975]</th>  \n",
       "</tr>\n",
       "<tr>\n",
       "  <th>const</th>           <td>  160.5010</td> <td>   45.124</td> <td>    3.557</td> <td> 0.000</td> <td>   72.049</td> <td>  248.953</td>\n",
       "</tr>\n",
       "<tr>\n",
       "  <th>passenger_count</th> <td>   -0.0712</td> <td>    0.029</td> <td>   -2.476</td> <td> 0.013</td> <td>   -0.128</td> <td>   -0.015</td>\n",
       "</tr>\n",
       "<tr>\n",
       "  <th>trip_distance</th>   <td>    2.7513</td> <td>    0.009</td> <td>  300.032</td> <td> 0.000</td> <td>    2.733</td> <td>    2.769</td>\n",
       "</tr>\n",
       "<tr>\n",
       "  <th>Latitude</th>        <td>   -7.9141</td> <td>    2.360</td> <td>   -3.353</td> <td> 0.001</td> <td>  -12.541</td> <td>   -3.288</td>\n",
       "</tr>\n",
       "<tr>\n",
       "  <th>Longitude</th>       <td>   -2.2501</td> <td>    0.692</td> <td>   -3.254</td> <td> 0.001</td> <td>   -3.606</td> <td>   -0.895</td>\n",
       "</tr>\n",
       "<tr>\n",
       "  <th>weekend</th>         <td>   -0.4180</td> <td>    0.082</td> <td>   -5.124</td> <td> 0.000</td> <td>   -0.578</td> <td>   -0.258</td>\n",
       "</tr>\n",
       "<tr>\n",
       "  <th>daytime</th>         <td>    0.8792</td> <td>    0.074</td> <td>   11.887</td> <td> 0.000</td> <td>    0.734</td> <td>    1.024</td>\n",
       "</tr>\n",
       "</table>\n",
       "<table class=\"simpletable\">\n",
       "<tr>\n",
       "  <th>Omnibus:</th>       <td>15867.815</td> <th>  Durbin-Watson:     </th>   <td>   1.900</td>  \n",
       "</tr>\n",
       "<tr>\n",
       "  <th>Prob(Omnibus):</th>  <td> 0.000</td>   <th>  Jarque-Bera (JB):  </th> <td>22523505.393</td>\n",
       "</tr>\n",
       "<tr>\n",
       "  <th>Skew:</th>           <td> 9.894</td>   <th>  Prob(JB):          </th>   <td>    0.00</td>  \n",
       "</tr>\n",
       "<tr>\n",
       "  <th>Kurtosis:</th>       <td>234.657</td>  <th>  Cond. No.          </th>   <td>1.09e+05</td>  \n",
       "</tr>\n",
       "</table><br/><br/>Warnings:<br/>[1] Standard Errors assume that the covariance matrix of the errors is correctly specified.<br/>[2] The condition number is large, 1.09e+05. This might indicate that there are<br/>strong multicollinearity or other numerical problems."
      ],
      "text/plain": [
       "<class 'statsmodels.iolib.summary.Summary'>\n",
       "\"\"\"\n",
       "                            OLS Regression Results                            \n",
       "==============================================================================\n",
       "Dep. Variable:            fare_amount   R-squared:                       0.900\n",
       "Model:                            OLS   Adj. R-squared:                  0.900\n",
       "Method:                 Least Squares   F-statistic:                 1.506e+04\n",
       "Date:                Thu, 16 Apr 2020   Prob (F-statistic):               0.00\n",
       "Time:                        14:01:06   Log-Likelihood:                -26722.\n",
       "No. Observations:               10000   AIC:                         5.346e+04\n",
       "Df Residuals:                    9993   BIC:                         5.351e+04\n",
       "Df Model:                           6                                         \n",
       "Covariance Type:            nonrobust                                         \n",
       "===================================================================================\n",
       "                      coef    std err          t      P>|t|      [0.025      0.975]\n",
       "-----------------------------------------------------------------------------------\n",
       "const             160.5010     45.124      3.557      0.000      72.049     248.953\n",
       "passenger_count    -0.0712      0.029     -2.476      0.013      -0.128      -0.015\n",
       "trip_distance       2.7513      0.009    300.032      0.000       2.733       2.769\n",
       "Latitude           -7.9141      2.360     -3.353      0.001     -12.541      -3.288\n",
       "Longitude          -2.2501      0.692     -3.254      0.001      -3.606      -0.895\n",
       "weekend            -0.4180      0.082     -5.124      0.000      -0.578      -0.258\n",
       "daytime             0.8792      0.074     11.887      0.000       0.734       1.024\n",
       "==============================================================================\n",
       "Omnibus:                    15867.815   Durbin-Watson:                   1.900\n",
       "Prob(Omnibus):                  0.000   Jarque-Bera (JB):         22523505.393\n",
       "Skew:                           9.894   Prob(JB):                         0.00\n",
       "Kurtosis:                     234.657   Cond. No.                     1.09e+05\n",
       "==============================================================================\n",
       "\n",
       "Warnings:\n",
       "[1] Standard Errors assume that the covariance matrix of the errors is correctly specified.\n",
       "[2] The condition number is large, 1.09e+05. This might indicate that there are\n",
       "strong multicollinearity or other numerical problems.\n",
       "\"\"\""
      ]
     },
     "execution_count": 132,
     "metadata": {},
     "output_type": "execute_result"
    }
   ],
   "source": [
    "results.summary()"
   ]
  },
  {
   "cell_type": "code",
   "execution_count": 133,
   "metadata": {},
   "outputs": [],
   "source": [
    "from statsmodels.tools.eval_measures import rmse\n"
   ]
  },
  {
   "cell_type": "markdown",
   "metadata": {},
   "source": [
    "# Regression Using  Numpy"
   ]
  },
  {
   "cell_type": "code",
   "execution_count": 134,
   "metadata": {},
   "outputs": [
    {
     "name": "stdout",
     "output_type": "stream",
     "text": [
      "The R2 using Linear Regession with Numpy is 0.9004346075194541\n"
     ]
    }
   ],
   "source": [
    "b = np.dot(np.linalg.inv(np.dot(X.T, X)),np.dot(X.T,y))\n",
    "SSE = np.dot((results.predict() - y.mean()).T,(results.predict() - y.mean()))\n",
    "resid = y-results.predict()\n",
    "SSR = np.dot(resid.T,resid)\n",
    "SST = SSR + SSE\n",
    "R2 = SSE/SST\n",
    "print('The R2 using Linear Regession with Numpy is', R2)\n"
   ]
  },
  {
   "cell_type": "markdown",
   "metadata": {},
   "source": [
    "# Linear Regression using Sklearn"
   ]
  },
  {
   "cell_type": "code",
   "execution_count": 135,
   "metadata": {},
   "outputs": [
    {
     "name": "stdout",
     "output_type": "stream",
     "text": [
      "The R squared using linear regression using Sklearn is 0.8948481655890659\n",
      "The RMSE for test set using linear regression using Sklearn is 14.014116366042543\n",
      "The RMSE for training using linear regression using Sklearn is 10.593960973923686\n"
     ]
    }
   ],
   "source": [
    "from sklearn.model_selection import train_test_split\n",
    "from sklearn.linear_model import LinearRegression\n",
    "X_train,X_test,y_train,y_test=train_test_split(data.drop('fare_amount',axis=1),data['fare_amount'],random_state=0,test_size=0.5)\n",
    "lr=LinearRegression()\n",
    "lr.fit(X_train,y_train)\n",
    "from sklearn.metrics import mean_squared_error,r2_score\n",
    "y_lr=lr.predict(X_test)\n",
    "print('The R squared using linear regression using Sklearn is',r2_score(y_test,y_lr))\n",
    "\n",
    "print('The RMSE for test set using linear regression using Sklearn is',mean_squared_error(y_test,y_lr))\n",
    "print('The RMSE for training using linear regression using Sklearn is',mean_squared_error(y_train,lr.predict(X_train)))\n",
    "\n"
   ]
  },
  {
   "cell_type": "markdown",
   "metadata": {},
   "source": [
    "# K-Fold Cross Validation"
   ]
  },
  {
   "cell_type": "code",
   "execution_count": 136,
   "metadata": {},
   "outputs": [
    {
     "name": "stdout",
     "output_type": "stream",
     "text": [
      "The Mean RMSE across all folds is 41.294522380516284\n"
     ]
    }
   ],
   "source": [
    "## KFold cross-validation\n",
    "\n",
    "from sklearn.model_selection import KFold\n",
    "from sklearn.linear_model import LinearRegression\n",
    "\n",
    "## Define variables for the for loop\n",
    "\n",
    "kf = KFold(n_splits=10)\n",
    "RMSE_sum=0\n",
    "RMSE_length=10\n",
    "X = np.array(data.drop('fare_amount',axis=1))\n",
    "y = np.array(data['fare_amount'])\n",
    "\n",
    "for loop_number, (train, test) in enumerate(kf.split(X)):\n",
    "\n",
    "    ## Get Training Matrix and Vector\n",
    "\n",
    "    training_X_array = X[train]\n",
    "    training_y_array = y[train].reshape(-1, 1)\n",
    "\n",
    "    ## Get Testing Matrix Values\n",
    "\n",
    "    X_test_array = X[test]\n",
    "    y_actual_values = y[test]\n",
    "\n",
    "    ## Fit the Linear Regression Model\n",
    "\n",
    "    lr_model = LinearRegression().fit(training_X_array, training_y_array)\n",
    "\n",
    "    ## Compute the predictions for the test data\n",
    "\n",
    "    prediction = lr_model.predict(X_test_array)      \n",
    "    predicted_amount = np.array(prediction)   \n",
    "\n",
    "    ## Calculate the RMSE\n",
    "\n",
    "    RMSE_cross_fold = np.sqrt(mean_squared_error(y_actual_values, predicted_amount))\n",
    "\n",
    "    ## Add each RMSE_cross_fold value to the sum\n",
    "\n",
    "    RMSE_sum=RMSE_cross_fold+RMSE_sum\n",
    "\n",
    "## Calculate the average and print    \n",
    "\n",
    "RMSE_cross_fold_avg=RMSE_sum/RMSE_length\n",
    "\n",
    "print('The Mean RMSE across all folds is',RMSE_cross_fold_avg)"
   ]
  },
  {
   "cell_type": "markdown",
   "metadata": {},
   "source": [
    "# Random Forest Regressor"
   ]
  },
  {
   "cell_type": "code",
   "execution_count": 137,
   "metadata": {},
   "outputs": [
    {
     "name": "stdout",
     "output_type": "stream",
     "text": [
      "The RMSE  of training set is 1.7317321641833632\n",
      "The R squared of training is 0.9734733967572545\n",
      "The RMSE  of test set is 3.9717550722498376\n",
      "The R squared of test set is 0.8816369760941687\n"
     ]
    },
    {
     "name": "stderr",
     "output_type": "stream",
     "text": [
      "C:\\Users\\sanna\\Anaconda3\\lib\\site-packages\\sklearn\\ensemble\\forest.py:245: FutureWarning: The default value of n_estimators will change from 10 in version 0.20 to 100 in 0.22.\n",
      "  \"10 in version 0.20 to 100 in 0.22.\", FutureWarning)\n"
     ]
    }
   ],
   "source": [
    "from sklearn.ensemble import RandomForestRegressor\n",
    "randomForesttrain=RandomForestRegressor(random_state=0)\n",
    "randomForesttrain.fit(X_train,y_train)\n",
    "randomForesttrain_mse=mean_squared_error(y_train,randomForesttrain.predict(X_train))\n",
    "print('The RMSE  of training set is',np.sqrt(randomForesttrain_mse))##Print RMSE of training set\n",
    "print('The R squared of training is',r2_score(y_train,randomForesttrain.predict(X_train)))##Print r-square of training set\n",
    "randomForesttest_mse=mean_squared_error(y_test,randomForesttrain.predict(X_test))\n",
    "print('The RMSE  of test set is',np.sqrt(randomForesttest_mse))##Print RMSE of test set\n",
    "RamdomForestRMSE=np.sqrt(randomForesttest_mse)\n",
    "print('The R squared of test set is',r2_score(y_test,randomForesttrain.predict(X_test)))##Print r-square of test set"
   ]
  },
  {
   "cell_type": "markdown",
   "metadata": {},
   "source": [
    "# Ridge Regression using L2 Penalty\n"
   ]
  },
  {
   "cell_type": "code",
   "execution_count": 138,
   "metadata": {},
   "outputs": [
    {
     "name": "stdout",
     "output_type": "stream",
     "text": [
      "3.2562935336958367\n",
      "3.741205447612439\n"
     ]
    }
   ],
   "source": [
    "from sklearn.linear_model import Ridge\n",
    "rid=Ridge().fit(X_train,y_train)\n",
    "print(np.sqrt(mean_squared_error(y_train,rid.predict(X_train))))###Train RMSE\n",
    "print(np.sqrt(mean_squared_error(y_test,rid.predict(X_test))))### Test RMSE\n",
    "\n",
    "##OLS Training RMSE:3.0737185121831163\n",
    "###OLS Validation RMSE:3.662116393418766"
   ]
  },
  {
   "cell_type": "markdown",
   "metadata": {},
   "source": [
    "# Lasso Regression using L1 Penalty\n"
   ]
  },
  {
   "cell_type": "code",
   "execution_count": 139,
   "metadata": {},
   "outputs": [
    {
     "name": "stdout",
     "output_type": "stream",
     "text": [
      "3.3009667799734634\n",
      "3.8123578625134877\n"
     ]
    }
   ],
   "source": [
    "from sklearn.linear_model import Lasso\n",
    "las=Lasso().fit(X_train,y_train)\n",
    "print(np.sqrt(mean_squared_error(y_train,las.predict(X_train))))###Train RMSE\n",
    "print(np.sqrt(mean_squared_error(y_test,las.predict(X_test))))### Test RMSE\n",
    "\n"
   ]
  },
  {
   "cell_type": "markdown",
   "metadata": {},
   "source": [
    "# Gradient Boosting Regressor"
   ]
  },
  {
   "cell_type": "code",
   "execution_count": 141,
   "metadata": {},
   "outputs": [
    {
     "name": "stdout",
     "output_type": "stream",
     "text": [
      "Test RMSE 3.5150997009391114\n",
      "GRMSE: 3.5150997009391114\n",
      "Training RMSE 2.4544734425987182\n"
     ]
    }
   ],
   "source": [
    "from sklearn.ensemble import GradientBoostingRegressor\n",
    "model_gradient=GradientBoostingRegressor(n_estimators=100,learning_rate=0.1,max_depth=3,random_state=0)\n",
    "gradientBoost=model_gradient.fit(X_train,y_train)\n",
    "\n",
    "predicted=model_gradient.predict(X_test)\n",
    "\n",
    "print('Test RMSE',np.sqrt(mean_squared_error(y_test,predicted)))### Test RMSE\n",
    "GRMSE=np.sqrt(mean_squared_error(y_test,predicted))\n",
    "print('GRMSE:',GRMSE)\n",
    "print('Training RMSE',np.sqrt(mean_squared_error(y_train,model_gradient.predict(X_train))))##Training RMSE"
   ]
  },
  {
   "cell_type": "code",
   "execution_count": 140,
   "metadata": {},
   "outputs": [
    {
     "data": {
      "image/png": "[encoded data removed]",
      "text/plain": [
       "<Figure size 360x576 with 1 Axes>"
      ]
     },
     "metadata": {
      "needs_background": "light"
     },
     "output_type": "display_data"
    }
   ],
   "source": [
    "feature_importance=gradientBoost.feature_importances_\n",
    "#make importances relative to max importance\n",
    "feature_importance=100.0*(feature_importance/feature_importance.max())\n",
    "sorted_idx=np.argsort(feature_importance)\n",
    "pos=np.arange(sorted_idx.shape[0])+0.5\n",
    "plt.figure(figsize=(5,8))\n",
    "plt.subplot(1,2,2)\n",
    "plt.barh(pos,feature_importance[sorted_idx],align='center')\n",
    "plt.yticks(pos,X_train.columns[sorted_idx])\n",
    "plt.xlabel('Relative Importance')\n",
    "plt.ylabel('Features')\n",
    "plt.title('variable Importance for Gradient Boosting Regression')\n",
    "plt.show()"
   ]
  },
  {
   "cell_type": "code",
   "execution_count": null,
   "metadata": {},
   "outputs": [],
   "source": []
  },
  {
   "cell_type": "code",
   "execution_count": null,
   "metadata": {},
   "outputs": [],
   "source": []
  }
 ],
 "metadata": {
  "kernelspec": {
   "display_name": "Python 3",
   "language": "python",
   "name": "python3"
  },
  "language_info": {
   "codemirror_mode": {
    "name": "ipython",
    "version": 3
   },
   "file_extension": ".py",
   "mimetype": "text/x-python",
   "name": "python",
   "nbconvert_exporter": "python",
   "pygments_lexer": "ipython3",
   "version": "3.7.3"
  }
 },
 "nbformat": 4,
 "nbformat_minor": 2
}
